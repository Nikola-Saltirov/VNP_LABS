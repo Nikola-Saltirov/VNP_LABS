{
 "nbformat": 4,
 "nbformat_minor": 0,
 "metadata": {
  "colab": {
   "provenance": []
  },
  "kernelspec": {
   "name": "python3",
   "display_name": "Python 3 (ipykernel)",
   "language": "python"
  },
  "language_info": {
   "name": "python"
  }
 },
 "cells": [
  {
   "cell_type": "markdown",
   "source": [
    "# Laboratory exercise 4\n",
    "\n",
    "## Warm-Up Mode (2 points)\n",
    "\n",
    "**Task Description**  \n",
    "Using the given dataset, develop and implement **3** different neural networks to predict the **air quality level**. Each network should differ in the following ways:  \n",
    "\n",
    "- **layer configurations** - use different numbers and types of layers;\n",
    "- **activation functions** - try different activation functions;\n",
    "- **neurons per layer** - experiment with different numbers of neurons in each layer; and\n",
    "- **number of layers** - build networks with varying depths.\n",
    "\n",
    "After developing the models, evaluate and compare the performance of all **3** approaches.\n",
    "\n",
    "**About the Dataset**  \n",
    "This dataset focuses on air quality assessment across various regions. The dataset contains 5,000 samples and captures critical environmental and demographic factors that influence pollution levels.\n",
    "\n",
    "**Features**:  \n",
    "- **Temperature (°C)**: Average temperature of the region.  \n",
    "- **Humidity (%)**: Relative humidity recorded in the region.  \n",
    "- **PM2.5 Concentration (µg/m³)**: Levels of fine particulate matter.  \n",
    "- **PM10 Concentration (µg/m³)**: Levels of coarse particulate matter.  \n",
    "- **NO2 Concentration (ppb)**: Nitrogen dioxide levels.  \n",
    "- **SO2 Concentration (ppb)**: Sulfur dioxide levels.  \n",
    "- **CO Concentration (ppm)**: Carbon monoxide levels.  \n",
    "- **Proximity to Industrial Areas (km)**: Distance to the nearest industrial zone.  \n",
    "- **Population Density (people/km²)**: Number of people per square kilometer in the region.  \n",
    "\n",
    "**Target Variable**: **Air Quality**  \n",
    "- **Good**: Clean air with low pollution levels.  \n",
    "- **Moderate**: Acceptable air quality but with some pollutants present.  \n",
    "- **Poor**: Noticeable pollution that may cause health issues for sensitive groups.  \n",
    "- **Hazardous**: Highly polluted air posing serious health risks to the population.  "
   ],
   "metadata": {
    "id": "t7JOxuK9Jje2"
   }
  },
  {
   "metadata": {
    "ExecuteTime": {
     "end_time": "2024-12-19T22:28:07.848120Z",
     "start_time": "2024-12-19T22:28:07.842843Z"
    }
   },
   "cell_type": "code",
   "source": [
    "import pandas as pd\n",
    "import seaborn as sns\n",
    "import matplotlib.pyplot as plt\n",
    "from sklearn.model_selection import train_test_split\n",
    "from sklearn.metrics import r2_score\n",
    "from sklearn.preprocessing import MinMaxScaler, LabelEncoder\n",
    "from keras.api.models import Sequential\n",
    "from keras.api.layers import Input, LSTM, Dense\n",
    "from sklearn.preprocessing import LabelEncoder\n",
    "from sklearn.metrics import classification_report\n",
    "import numpy as np\n"
   ],
   "outputs": [],
   "execution_count": 141
  },
  {
   "metadata": {
    "ExecuteTime": {
     "end_time": "2024-12-19T22:28:07.881031Z",
     "start_time": "2024-12-19T22:28:07.858744Z"
    }
   },
   "cell_type": "code",
   "source": [
    "df = pd.read_csv(\"pollution_dataset.csv\")\n",
    "df"
   ],
   "outputs": [
    {
     "data": {
      "text/plain": [
       "      Temperature  Humidity  PM2.5   PM10   NO2   SO2    CO  \\\n",
       "0            29.8      59.1    5.2   17.9  18.9   9.2  1.72   \n",
       "1            28.3      75.6    2.3   12.2  30.8   9.7  1.64   \n",
       "2            23.1      74.7   26.7   33.8  24.4  12.6  1.63   \n",
       "3            27.1      39.1    6.1    6.3  13.5   5.3  1.15   \n",
       "4            26.5      70.7    6.9   16.0  21.9   5.6  1.01   \n",
       "...           ...       ...    ...    ...   ...   ...   ...   \n",
       "4995         40.6      74.1  116.0  126.7  45.5  25.7  2.11   \n",
       "4996         28.1      96.9    6.9   25.0  25.3  10.8  1.54   \n",
       "4997         25.9      78.2   14.2   22.1  34.8   7.8  1.63   \n",
       "4998         25.3      44.4   21.4   29.0  23.7   5.7  0.89   \n",
       "4999         24.1      77.9   81.7   94.3  23.2  10.5  1.38   \n",
       "\n",
       "      Proximity_to_Industrial_Areas  Population_Density Air Quality  \n",
       "0                               6.3                 319    Moderate  \n",
       "1                               6.0                 611    Moderate  \n",
       "2                               5.2                 619    Moderate  \n",
       "3                              11.1                 551        Good  \n",
       "4                              12.7                 303        Good  \n",
       "...                             ...                 ...         ...  \n",
       "4995                            2.8                 765   Hazardous  \n",
       "4996                            5.7                 709    Moderate  \n",
       "4997                            9.6                 379    Moderate  \n",
       "4998                           11.6                 241        Good  \n",
       "4999                            8.3                 461    Moderate  \n",
       "\n",
       "[5000 rows x 10 columns]"
      ],
      "text/html": [
       "<div>\n",
       "<style scoped>\n",
       "    .dataframe tbody tr th:only-of-type {\n",
       "        vertical-align: middle;\n",
       "    }\n",
       "\n",
       "    .dataframe tbody tr th {\n",
       "        vertical-align: top;\n",
       "    }\n",
       "\n",
       "    .dataframe thead th {\n",
       "        text-align: right;\n",
       "    }\n",
       "</style>\n",
       "<table border=\"1\" class=\"dataframe\">\n",
       "  <thead>\n",
       "    <tr style=\"text-align: right;\">\n",
       "      <th></th>\n",
       "      <th>Temperature</th>\n",
       "      <th>Humidity</th>\n",
       "      <th>PM2.5</th>\n",
       "      <th>PM10</th>\n",
       "      <th>NO2</th>\n",
       "      <th>SO2</th>\n",
       "      <th>CO</th>\n",
       "      <th>Proximity_to_Industrial_Areas</th>\n",
       "      <th>Population_Density</th>\n",
       "      <th>Air Quality</th>\n",
       "    </tr>\n",
       "  </thead>\n",
       "  <tbody>\n",
       "    <tr>\n",
       "      <th>0</th>\n",
       "      <td>29.8</td>\n",
       "      <td>59.1</td>\n",
       "      <td>5.2</td>\n",
       "      <td>17.9</td>\n",
       "      <td>18.9</td>\n",
       "      <td>9.2</td>\n",
       "      <td>1.72</td>\n",
       "      <td>6.3</td>\n",
       "      <td>319</td>\n",
       "      <td>Moderate</td>\n",
       "    </tr>\n",
       "    <tr>\n",
       "      <th>1</th>\n",
       "      <td>28.3</td>\n",
       "      <td>75.6</td>\n",
       "      <td>2.3</td>\n",
       "      <td>12.2</td>\n",
       "      <td>30.8</td>\n",
       "      <td>9.7</td>\n",
       "      <td>1.64</td>\n",
       "      <td>6.0</td>\n",
       "      <td>611</td>\n",
       "      <td>Moderate</td>\n",
       "    </tr>\n",
       "    <tr>\n",
       "      <th>2</th>\n",
       "      <td>23.1</td>\n",
       "      <td>74.7</td>\n",
       "      <td>26.7</td>\n",
       "      <td>33.8</td>\n",
       "      <td>24.4</td>\n",
       "      <td>12.6</td>\n",
       "      <td>1.63</td>\n",
       "      <td>5.2</td>\n",
       "      <td>619</td>\n",
       "      <td>Moderate</td>\n",
       "    </tr>\n",
       "    <tr>\n",
       "      <th>3</th>\n",
       "      <td>27.1</td>\n",
       "      <td>39.1</td>\n",
       "      <td>6.1</td>\n",
       "      <td>6.3</td>\n",
       "      <td>13.5</td>\n",
       "      <td>5.3</td>\n",
       "      <td>1.15</td>\n",
       "      <td>11.1</td>\n",
       "      <td>551</td>\n",
       "      <td>Good</td>\n",
       "    </tr>\n",
       "    <tr>\n",
       "      <th>4</th>\n",
       "      <td>26.5</td>\n",
       "      <td>70.7</td>\n",
       "      <td>6.9</td>\n",
       "      <td>16.0</td>\n",
       "      <td>21.9</td>\n",
       "      <td>5.6</td>\n",
       "      <td>1.01</td>\n",
       "      <td>12.7</td>\n",
       "      <td>303</td>\n",
       "      <td>Good</td>\n",
       "    </tr>\n",
       "    <tr>\n",
       "      <th>...</th>\n",
       "      <td>...</td>\n",
       "      <td>...</td>\n",
       "      <td>...</td>\n",
       "      <td>...</td>\n",
       "      <td>...</td>\n",
       "      <td>...</td>\n",
       "      <td>...</td>\n",
       "      <td>...</td>\n",
       "      <td>...</td>\n",
       "      <td>...</td>\n",
       "    </tr>\n",
       "    <tr>\n",
       "      <th>4995</th>\n",
       "      <td>40.6</td>\n",
       "      <td>74.1</td>\n",
       "      <td>116.0</td>\n",
       "      <td>126.7</td>\n",
       "      <td>45.5</td>\n",
       "      <td>25.7</td>\n",
       "      <td>2.11</td>\n",
       "      <td>2.8</td>\n",
       "      <td>765</td>\n",
       "      <td>Hazardous</td>\n",
       "    </tr>\n",
       "    <tr>\n",
       "      <th>4996</th>\n",
       "      <td>28.1</td>\n",
       "      <td>96.9</td>\n",
       "      <td>6.9</td>\n",
       "      <td>25.0</td>\n",
       "      <td>25.3</td>\n",
       "      <td>10.8</td>\n",
       "      <td>1.54</td>\n",
       "      <td>5.7</td>\n",
       "      <td>709</td>\n",
       "      <td>Moderate</td>\n",
       "    </tr>\n",
       "    <tr>\n",
       "      <th>4997</th>\n",
       "      <td>25.9</td>\n",
       "      <td>78.2</td>\n",
       "      <td>14.2</td>\n",
       "      <td>22.1</td>\n",
       "      <td>34.8</td>\n",
       "      <td>7.8</td>\n",
       "      <td>1.63</td>\n",
       "      <td>9.6</td>\n",
       "      <td>379</td>\n",
       "      <td>Moderate</td>\n",
       "    </tr>\n",
       "    <tr>\n",
       "      <th>4998</th>\n",
       "      <td>25.3</td>\n",
       "      <td>44.4</td>\n",
       "      <td>21.4</td>\n",
       "      <td>29.0</td>\n",
       "      <td>23.7</td>\n",
       "      <td>5.7</td>\n",
       "      <td>0.89</td>\n",
       "      <td>11.6</td>\n",
       "      <td>241</td>\n",
       "      <td>Good</td>\n",
       "    </tr>\n",
       "    <tr>\n",
       "      <th>4999</th>\n",
       "      <td>24.1</td>\n",
       "      <td>77.9</td>\n",
       "      <td>81.7</td>\n",
       "      <td>94.3</td>\n",
       "      <td>23.2</td>\n",
       "      <td>10.5</td>\n",
       "      <td>1.38</td>\n",
       "      <td>8.3</td>\n",
       "      <td>461</td>\n",
       "      <td>Moderate</td>\n",
       "    </tr>\n",
       "  </tbody>\n",
       "</table>\n",
       "<p>5000 rows × 10 columns</p>\n",
       "</div>"
      ]
     },
     "execution_count": 142,
     "metadata": {},
     "output_type": "execute_result"
    }
   ],
   "execution_count": 142
  },
  {
   "metadata": {
    "ExecuteTime": {
     "end_time": "2024-12-19T22:28:07.933586Z",
     "start_time": "2024-12-19T22:28:07.929Z"
    }
   },
   "cell_type": "code",
   "source": "len(df)",
   "outputs": [
    {
     "data": {
      "text/plain": [
       "5000"
      ]
     },
     "execution_count": 143,
     "metadata": {},
     "output_type": "execute_result"
    }
   ],
   "execution_count": 143
  },
  {
   "metadata": {
    "ExecuteTime": {
     "end_time": "2024-12-19T22:28:07.976507Z",
     "start_time": "2024-12-19T22:28:07.971698Z"
    }
   },
   "cell_type": "code",
   "source": [
    "cats=df.columns\n",
    "cats.drop('Air Quality')\n",
    "encoder = LabelEncoder()\n",
    "df['Air Quality'] = encoder.fit_transform(df['Air Quality'])\n",
    "# sns.pairplot(df, vars=cats, hue='Air Quality')"
   ],
   "outputs": [],
   "execution_count": 144
  },
  {
   "metadata": {
    "ExecuteTime": {
     "end_time": "2024-12-19T22:28:08.009213Z",
     "start_time": "2024-12-19T22:28:08.005778Z"
    }
   },
   "cell_type": "code",
   "source": "x, y = df.drop(columns=[\"Air Quality\"]), df[\"Air Quality\"]",
   "outputs": [],
   "execution_count": 145
  },
  {
   "metadata": {
    "ExecuteTime": {
     "end_time": "2024-12-19T22:28:08.035263Z",
     "start_time": "2024-12-19T22:28:08.028798Z"
    }
   },
   "cell_type": "code",
   "source": [
    "train_x, test_x, train_y, test_y = train_test_split(x, y, test_size=0.2, random_state=1)\n",
    "train_y.unique()"
   ],
   "outputs": [
    {
     "data": {
      "text/plain": [
       "array([1, 2, 3, 0])"
      ]
     },
     "execution_count": 146,
     "metadata": {},
     "output_type": "execute_result"
    }
   ],
   "execution_count": 146
  },
  {
   "metadata": {
    "ExecuteTime": {
     "end_time": "2024-12-19T22:28:08.064303Z",
     "start_time": "2024-12-19T22:28:08.057648Z"
    }
   },
   "cell_type": "code",
   "source": [
    "scaler = MinMaxScaler()\n",
    "train_X = scaler.fit_transform(train_x)\n",
    "test_X = scaler.transform(test_x)"
   ],
   "outputs": [],
   "execution_count": 147
  },
  {
   "metadata": {
    "ExecuteTime": {
     "end_time": "2024-12-19T22:28:08.104803Z",
     "start_time": "2024-12-19T22:28:08.083033Z"
    }
   },
   "cell_type": "code",
   "source": [
    "model1 = Sequential([\n",
    "    Input(shape=(x.shape[1],)),\n",
    "    Dense(64, kernel_initializer=\"uniform\", activation=\"relu\"),\n",
    "    Dense(32, kernel_initializer=\"uniform\", activation=\"relu\"),\n",
    "    Dense(4, kernel_initializer=\"uniform\", activation=\"softmax\"),\n",
    "])\n",
    "\n",
    "model1.compile(\n",
    "    loss=\"sparse_categorical_crossentropy\",\n",
    "    optimizer=\"adam\",\n",
    "    metrics=[\"accuracy\"]\n",
    ")"
   ],
   "outputs": [],
   "execution_count": 148
  },
  {
   "metadata": {
    "ExecuteTime": {
     "end_time": "2024-12-19T22:28:18.633287Z",
     "start_time": "2024-12-19T22:28:08.123701Z"
    }
   },
   "cell_type": "code",
   "source": "history1 = model1.fit(train_X, train_y, validation_split=0.1, epochs=32, batch_size=8)",
   "outputs": [
    {
     "name": "stdout",
     "output_type": "stream",
     "text": [
      "Epoch 1/32\n",
      "\u001B[1m450/450\u001B[0m \u001B[32m━━━━━━━━━━━━━━━━━━━━\u001B[0m\u001B[37m\u001B[0m \u001B[1m1s\u001B[0m 796us/step - accuracy: 0.5689 - loss: 1.0398 - val_accuracy: 0.9200 - val_loss: 0.3014\n",
      "Epoch 2/32\n",
      "\u001B[1m450/450\u001B[0m \u001B[32m━━━━━━━━━━━━━━━━━━━━\u001B[0m\u001B[37m\u001B[0m \u001B[1m0s\u001B[0m 641us/step - accuracy: 0.9109 - loss: 0.2665 - val_accuracy: 0.9150 - val_loss: 0.2208\n",
      "Epoch 3/32\n",
      "\u001B[1m450/450\u001B[0m \u001B[32m━━━━━━━━━━━━━━━━━━━━\u001B[0m\u001B[37m\u001B[0m \u001B[1m0s\u001B[0m 656us/step - accuracy: 0.9295 - loss: 0.1942 - val_accuracy: 0.9300 - val_loss: 0.2023\n",
      "Epoch 4/32\n",
      "\u001B[1m450/450\u001B[0m \u001B[32m━━━━━━━━━━━━━━━━━━━━\u001B[0m\u001B[37m\u001B[0m \u001B[1m0s\u001B[0m 665us/step - accuracy: 0.9257 - loss: 0.2054 - val_accuracy: 0.9275 - val_loss: 0.1883\n",
      "Epoch 5/32\n",
      "\u001B[1m450/450\u001B[0m \u001B[32m━━━━━━━━━━━━━━━━━━━━\u001B[0m\u001B[37m\u001B[0m \u001B[1m0s\u001B[0m 697us/step - accuracy: 0.9393 - loss: 0.1784 - val_accuracy: 0.9050 - val_loss: 0.2221\n",
      "Epoch 6/32\n",
      "\u001B[1m450/450\u001B[0m \u001B[32m━━━━━━━━━━━━━━━━━━━━\u001B[0m\u001B[37m\u001B[0m \u001B[1m0s\u001B[0m 644us/step - accuracy: 0.9324 - loss: 0.1858 - val_accuracy: 0.9300 - val_loss: 0.1808\n",
      "Epoch 7/32\n",
      "\u001B[1m450/450\u001B[0m \u001B[32m━━━━━━━━━━━━━━━━━━━━\u001B[0m\u001B[37m\u001B[0m \u001B[1m0s\u001B[0m 667us/step - accuracy: 0.9280 - loss: 0.1821 - val_accuracy: 0.9350 - val_loss: 0.1817\n",
      "Epoch 8/32\n",
      "\u001B[1m450/450\u001B[0m \u001B[32m━━━━━━━━━━━━━━━━━━━━\u001B[0m\u001B[37m\u001B[0m \u001B[1m0s\u001B[0m 660us/step - accuracy: 0.9352 - loss: 0.1624 - val_accuracy: 0.9325 - val_loss: 0.1901\n",
      "Epoch 9/32\n",
      "\u001B[1m450/450\u001B[0m \u001B[32m━━━━━━━━━━━━━━━━━━━━\u001B[0m\u001B[37m\u001B[0m \u001B[1m0s\u001B[0m 637us/step - accuracy: 0.9433 - loss: 0.1656 - val_accuracy: 0.9375 - val_loss: 0.1884\n",
      "Epoch 10/32\n",
      "\u001B[1m450/450\u001B[0m \u001B[32m━━━━━━━━━━━━━━━━━━━━\u001B[0m\u001B[37m\u001B[0m \u001B[1m0s\u001B[0m 632us/step - accuracy: 0.9445 - loss: 0.1571 - val_accuracy: 0.9275 - val_loss: 0.1855\n",
      "Epoch 11/32\n",
      "\u001B[1m450/450\u001B[0m \u001B[32m━━━━━━━━━━━━━━━━━━━━\u001B[0m\u001B[37m\u001B[0m \u001B[1m0s\u001B[0m 631us/step - accuracy: 0.9347 - loss: 0.1695 - val_accuracy: 0.9325 - val_loss: 0.1749\n",
      "Epoch 12/32\n",
      "\u001B[1m450/450\u001B[0m \u001B[32m━━━━━━━━━━━━━━━━━━━━\u001B[0m\u001B[37m\u001B[0m \u001B[1m0s\u001B[0m 647us/step - accuracy: 0.9401 - loss: 0.1513 - val_accuracy: 0.9325 - val_loss: 0.1845\n",
      "Epoch 13/32\n",
      "\u001B[1m450/450\u001B[0m \u001B[32m━━━━━━━━━━━━━━━━━━━━\u001B[0m\u001B[37m\u001B[0m \u001B[1m0s\u001B[0m 667us/step - accuracy: 0.9336 - loss: 0.1771 - val_accuracy: 0.9325 - val_loss: 0.1758\n",
      "Epoch 14/32\n",
      "\u001B[1m450/450\u001B[0m \u001B[32m━━━━━━━━━━━━━━━━━━━━\u001B[0m\u001B[37m\u001B[0m \u001B[1m0s\u001B[0m 633us/step - accuracy: 0.9408 - loss: 0.1539 - val_accuracy: 0.9350 - val_loss: 0.1752\n",
      "Epoch 15/32\n",
      "\u001B[1m450/450\u001B[0m \u001B[32m━━━━━━━━━━━━━━━━━━━━\u001B[0m\u001B[37m\u001B[0m \u001B[1m0s\u001B[0m 639us/step - accuracy: 0.9440 - loss: 0.1550 - val_accuracy: 0.9375 - val_loss: 0.1860\n",
      "Epoch 16/32\n",
      "\u001B[1m450/450\u001B[0m \u001B[32m━━━━━━━━━━━━━━━━━━━━\u001B[0m\u001B[37m\u001B[0m \u001B[1m0s\u001B[0m 641us/step - accuracy: 0.9424 - loss: 0.1552 - val_accuracy: 0.9275 - val_loss: 0.1695\n",
      "Epoch 17/32\n",
      "\u001B[1m450/450\u001B[0m \u001B[32m━━━━━━━━━━━━━━━━━━━━\u001B[0m\u001B[37m\u001B[0m \u001B[1m0s\u001B[0m 634us/step - accuracy: 0.9415 - loss: 0.1562 - val_accuracy: 0.9350 - val_loss: 0.1634\n",
      "Epoch 18/32\n",
      "\u001B[1m450/450\u001B[0m \u001B[32m━━━━━━━━━━━━━━━━━━━━\u001B[0m\u001B[37m\u001B[0m \u001B[1m0s\u001B[0m 631us/step - accuracy: 0.9367 - loss: 0.1584 - val_accuracy: 0.9375 - val_loss: 0.1630\n",
      "Epoch 19/32\n",
      "\u001B[1m450/450\u001B[0m \u001B[32m━━━━━━━━━━━━━━━━━━━━\u001B[0m\u001B[37m\u001B[0m \u001B[1m0s\u001B[0m 666us/step - accuracy: 0.9372 - loss: 0.1543 - val_accuracy: 0.9400 - val_loss: 0.1641\n",
      "Epoch 20/32\n",
      "\u001B[1m450/450\u001B[0m \u001B[32m━━━━━━━━━━━━━━━━━━━━\u001B[0m\u001B[37m\u001B[0m \u001B[1m0s\u001B[0m 637us/step - accuracy: 0.9396 - loss: 0.1546 - val_accuracy: 0.9375 - val_loss: 0.1660\n",
      "Epoch 21/32\n",
      "\u001B[1m450/450\u001B[0m \u001B[32m━━━━━━━━━━━━━━━━━━━━\u001B[0m\u001B[37m\u001B[0m \u001B[1m0s\u001B[0m 647us/step - accuracy: 0.9376 - loss: 0.1519 - val_accuracy: 0.9300 - val_loss: 0.1776\n",
      "Epoch 22/32\n",
      "\u001B[1m450/450\u001B[0m \u001B[32m━━━━━━━━━━━━━━━━━━━━\u001B[0m\u001B[37m\u001B[0m \u001B[1m0s\u001B[0m 632us/step - accuracy: 0.9422 - loss: 0.1487 - val_accuracy: 0.9350 - val_loss: 0.1755\n",
      "Epoch 23/32\n",
      "\u001B[1m450/450\u001B[0m \u001B[32m━━━━━━━━━━━━━━━━━━━━\u001B[0m\u001B[37m\u001B[0m \u001B[1m0s\u001B[0m 637us/step - accuracy: 0.9299 - loss: 0.1836 - val_accuracy: 0.9400 - val_loss: 0.1591\n",
      "Epoch 24/32\n",
      "\u001B[1m450/450\u001B[0m \u001B[32m━━━━━━━━━━━━━━━━━━━━\u001B[0m\u001B[37m\u001B[0m \u001B[1m0s\u001B[0m 597us/step - accuracy: 0.9473 - loss: 0.1500 - val_accuracy: 0.9300 - val_loss: 0.1911\n",
      "Epoch 25/32\n",
      "\u001B[1m450/450\u001B[0m \u001B[32m━━━━━━━━━━━━━━━━━━━━\u001B[0m\u001B[37m\u001B[0m \u001B[1m0s\u001B[0m 643us/step - accuracy: 0.9420 - loss: 0.1495 - val_accuracy: 0.9375 - val_loss: 0.1617\n",
      "Epoch 26/32\n",
      "\u001B[1m450/450\u001B[0m \u001B[32m━━━━━━━━━━━━━━━━━━━━\u001B[0m\u001B[37m\u001B[0m \u001B[1m0s\u001B[0m 651us/step - accuracy: 0.9412 - loss: 0.1474 - val_accuracy: 0.9425 - val_loss: 0.1744\n",
      "Epoch 27/32\n",
      "\u001B[1m450/450\u001B[0m \u001B[32m━━━━━━━━━━━━━━━━━━━━\u001B[0m\u001B[37m\u001B[0m \u001B[1m0s\u001B[0m 654us/step - accuracy: 0.9402 - loss: 0.1463 - val_accuracy: 0.9225 - val_loss: 0.1685\n",
      "Epoch 28/32\n",
      "\u001B[1m450/450\u001B[0m \u001B[32m━━━━━━━━━━━━━━━━━━━━\u001B[0m\u001B[37m\u001B[0m \u001B[1m0s\u001B[0m 653us/step - accuracy: 0.9392 - loss: 0.1567 - val_accuracy: 0.9325 - val_loss: 0.1713\n",
      "Epoch 29/32\n",
      "\u001B[1m450/450\u001B[0m \u001B[32m━━━━━━━━━━━━━━━━━━━━\u001B[0m\u001B[37m\u001B[0m \u001B[1m0s\u001B[0m 633us/step - accuracy: 0.9307 - loss: 0.1681 - val_accuracy: 0.9375 - val_loss: 0.1749\n",
      "Epoch 30/32\n",
      "\u001B[1m450/450\u001B[0m \u001B[32m━━━━━━━━━━━━━━━━━━━━\u001B[0m\u001B[37m\u001B[0m \u001B[1m0s\u001B[0m 639us/step - accuracy: 0.9342 - loss: 0.1584 - val_accuracy: 0.9475 - val_loss: 0.1627\n",
      "Epoch 31/32\n",
      "\u001B[1m450/450\u001B[0m \u001B[32m━━━━━━━━━━━━━━━━━━━━\u001B[0m\u001B[37m\u001B[0m \u001B[1m0s\u001B[0m 640us/step - accuracy: 0.9413 - loss: 0.1445 - val_accuracy: 0.9125 - val_loss: 0.2259\n",
      "Epoch 32/32\n",
      "\u001B[1m450/450\u001B[0m \u001B[32m━━━━━━━━━━━━━━━━━━━━\u001B[0m\u001B[37m\u001B[0m \u001B[1m0s\u001B[0m 630us/step - accuracy: 0.9356 - loss: 0.1562 - val_accuracy: 0.9375 - val_loss: 0.1619\n"
     ]
    }
   ],
   "execution_count": 149
  },
  {
   "metadata": {
    "ExecuteTime": {
     "end_time": "2024-12-19T22:28:18.782133Z",
     "start_time": "2024-12-19T22:28:18.654901Z"
    }
   },
   "cell_type": "code",
   "source": [
    "sns.lineplot(history1.history['loss'], label='loss')\n",
    "sns.lineplot(history1.history['val_loss'], label='val_loss')"
   ],
   "outputs": [
    {
     "data": {
      "text/plain": [
       "<Axes: >"
      ]
     },
     "execution_count": 150,
     "metadata": {},
     "output_type": "execute_result"
    },
    {
     "data": {
      "text/plain": [
       "<Figure size 640x480 with 1 Axes>"
      ],
      "image/png": "[encoded data removed]"
     },
     "metadata": {},
     "output_type": "display_data"
    }
   ],
   "execution_count": 150
  },
  {
   "metadata": {
    "ExecuteTime": {
     "end_time": "2024-12-19T22:28:18.911246Z",
     "start_time": "2024-12-19T22:28:18.803945Z"
    }
   },
   "cell_type": "code",
   "source": [
    "pred_y1 = model1.predict(test_X).round()\n",
    "pred_y1 = np.argmax(pred_y1, axis=1)\n",
    "test_y"
   ],
   "outputs": [
    {
     "name": "stdout",
     "output_type": "stream",
     "text": [
      "\u001B[1m32/32\u001B[0m \u001B[32m━━━━━━━━━━━━━━━━━━━━\u001B[0m\u001B[37m\u001B[0m \u001B[1m0s\u001B[0m 1ms/step \n"
     ]
    },
    {
     "data": {
      "text/plain": [
       "2764    2\n",
       "4767    0\n",
       "3814    1\n",
       "3499    2\n",
       "2735    3\n",
       "       ..\n",
       "448     0\n",
       "921     2\n",
       "4087    2\n",
       "1242    3\n",
       "2242    3\n",
       "Name: Air Quality, Length: 1000, dtype: int32"
      ]
     },
     "execution_count": 151,
     "metadata": {},
     "output_type": "execute_result"
    }
   ],
   "execution_count": 151
  },
  {
   "metadata": {
    "ExecuteTime": {
     "end_time": "2024-12-19T22:28:18.964764Z",
     "start_time": "2024-12-19T22:28:18.955499Z"
    }
   },
   "cell_type": "code",
   "source": "print(classification_report(test_y, pred_y1))",
   "outputs": [
    {
     "name": "stdout",
     "output_type": "stream",
     "text": [
      "              precision    recall  f1-score   support\n",
      "\n",
      "           0       1.00      0.99      0.99       404\n",
      "           1       0.86      0.84      0.85       100\n",
      "           2       0.93      0.97      0.95       296\n",
      "           3       0.88      0.83      0.85       200\n",
      "\n",
      "    accuracy                           0.94      1000\n",
      "   macro avg       0.91      0.91      0.91      1000\n",
      "weighted avg       0.94      0.94      0.94      1000\n",
      "\n"
     ]
    }
   ],
   "execution_count": 152
  },
  {
   "metadata": {
    "ExecuteTime": {
     "end_time": "2024-12-19T22:29:28.890389Z",
     "start_time": "2024-12-19T22:29:25.758735Z"
    }
   },
   "cell_type": "code",
   "source": [
    "model2 = Sequential([\n",
    "    Input(shape=(x.shape[1],)),\n",
    "    Dense(64, kernel_initializer=\"normal\", activation=\"relu\"),\n",
    "    Dense(32, kernel_initializer=\"normal\", activation=\"relu\"),\n",
    "    Dense(4, kernel_initializer=\"normal\", activation=\"softmax\"),\n",
    "])\n",
    "\n",
    "model2.compile(\n",
    "    loss=\"sparse_categorical_crossentropy\",\n",
    "    optimizer=\"adam\",\n",
    "    metrics=[\"accuracy\"]\n",
    ")\n",
    "history2 = model2.fit(train_X, train_y, validation_split=0.1, epochs=8, batch_size=8)"
   ],
   "outputs": [
    {
     "name": "stdout",
     "output_type": "stream",
     "text": [
      "Epoch 1/8\n",
      "\u001B[1m450/450\u001B[0m \u001B[32m━━━━━━━━━━━━━━━━━━━━\u001B[0m\u001B[37m\u001B[0m \u001B[1m1s\u001B[0m 808us/step - accuracy: 0.5240 - loss: 1.0869 - val_accuracy: 0.9100 - val_loss: 0.3215\n",
      "Epoch 2/8\n",
      "\u001B[1m450/450\u001B[0m \u001B[32m━━━━━━━━━━━━━━━━━━━━\u001B[0m\u001B[37m\u001B[0m \u001B[1m0s\u001B[0m 668us/step - accuracy: 0.9061 - loss: 0.2936 - val_accuracy: 0.9250 - val_loss: 0.2337\n",
      "Epoch 3/8\n",
      "\u001B[1m450/450\u001B[0m \u001B[32m━━━━━━━━━━━━━━━━━━━━\u001B[0m\u001B[37m\u001B[0m \u001B[1m0s\u001B[0m 608us/step - accuracy: 0.9263 - loss: 0.2317 - val_accuracy: 0.9025 - val_loss: 0.2545\n",
      "Epoch 4/8\n",
      "\u001B[1m450/450\u001B[0m \u001B[32m━━━━━━━━━━━━━━━━━━━━\u001B[0m\u001B[37m\u001B[0m \u001B[1m0s\u001B[0m 613us/step - accuracy: 0.9311 - loss: 0.1992 - val_accuracy: 0.9275 - val_loss: 0.2024\n",
      "Epoch 5/8\n",
      "\u001B[1m450/450\u001B[0m \u001B[32m━━━━━━━━━━━━━━━━━━━━\u001B[0m\u001B[37m\u001B[0m \u001B[1m0s\u001B[0m 677us/step - accuracy: 0.9378 - loss: 0.1749 - val_accuracy: 0.9325 - val_loss: 0.1816\n",
      "Epoch 6/8\n",
      "\u001B[1m450/450\u001B[0m \u001B[32m━━━━━━━━━━━━━━━━━━━━\u001B[0m\u001B[37m\u001B[0m \u001B[1m0s\u001B[0m 615us/step - accuracy: 0.9381 - loss: 0.1694 - val_accuracy: 0.9275 - val_loss: 0.2023\n",
      "Epoch 7/8\n",
      "\u001B[1m450/450\u001B[0m \u001B[32m━━━━━━━━━━━━━━━━━━━━\u001B[0m\u001B[37m\u001B[0m \u001B[1m0s\u001B[0m 607us/step - accuracy: 0.9276 - loss: 0.1765 - val_accuracy: 0.9225 - val_loss: 0.1855\n",
      "Epoch 8/8\n",
      "\u001B[1m450/450\u001B[0m \u001B[32m━━━━━━━━━━━━━━━━━━━━\u001B[0m\u001B[37m\u001B[0m \u001B[1m0s\u001B[0m 629us/step - accuracy: 0.9394 - loss: 0.1646 - val_accuracy: 0.9175 - val_loss: 0.2132\n"
     ]
    }
   ],
   "execution_count": 159
  },
  {
   "metadata": {
    "ExecuteTime": {
     "end_time": "2024-12-19T22:29:29.023288Z",
     "start_time": "2024-12-19T22:29:28.890389Z"
    }
   },
   "cell_type": "code",
   "source": [
    "sns.lineplot(history2.history['loss'], label='loss')\n",
    "sns.lineplot(history2.history['val_loss'], label='val_loss')"
   ],
   "outputs": [
    {
     "data": {
      "text/plain": [
       "<Axes: >"
      ]
     },
     "execution_count": 160,
     "metadata": {},
     "output_type": "execute_result"
    },
    {
     "data": {
      "text/plain": [
       "<Figure size 640x480 with 1 Axes>"
      ],
      "image/png": "[encoded data removed]"
     },
     "metadata": {},
     "output_type": "display_data"
    }
   ],
   "execution_count": 160
  },
  {
   "metadata": {
    "ExecuteTime": {
     "end_time": "2024-12-19T22:29:29.450099Z",
     "start_time": "2024-12-19T22:29:29.380970Z"
    }
   },
   "cell_type": "code",
   "source": [
    "pred_y2 = model1.predict(test_X).round()\n",
    "pred_y2 = np.argmax(pred_y2, axis=1)\n",
    "print(classification_report(test_y, pred_y2))"
   ],
   "outputs": [
    {
     "name": "stdout",
     "output_type": "stream",
     "text": [
      "\u001B[1m32/32\u001B[0m \u001B[32m━━━━━━━━━━━━━━━━━━━━\u001B[0m\u001B[37m\u001B[0m \u001B[1m0s\u001B[0m 505us/step\n",
      "              precision    recall  f1-score   support\n",
      "\n",
      "           0       1.00      0.99      0.99       404\n",
      "           1       0.86      0.84      0.85       100\n",
      "           2       0.93      0.97      0.95       296\n",
      "           3       0.88      0.83      0.85       200\n",
      "\n",
      "    accuracy                           0.94      1000\n",
      "   macro avg       0.91      0.91      0.91      1000\n",
      "weighted avg       0.94      0.94      0.94      1000\n",
      "\n"
     ]
    }
   ],
   "execution_count": 161
  },
  {
   "metadata": {
    "ExecuteTime": {
     "end_time": "2024-12-19T22:28:51.137304Z",
     "start_time": "2024-12-19T22:28:29.684734Z"
    }
   },
   "cell_type": "code",
   "source": [
    "model3 = Sequential([\n",
    "    Input(shape=(x.shape[1],)),\n",
    "    Dense(64, kernel_initializer=\"normal\", activation=\"elu\"),\n",
    "    Dense(32, kernel_initializer=\"normal\", activation=\"elu\"),\n",
    "    Dense(16, kernel_initializer=\"normal\", activation=\"elu\"),\n",
    "    Dense(4, kernel_initializer=\"normal\", activation=\"softmax\"),\n",
    "])\n",
    "\n",
    "model3.compile(\n",
    "    loss=\"sparse_categorical_crossentropy\",\n",
    "    optimizer=\"adam\",\n",
    "    metrics=[\"accuracy\"]\n",
    ")\n",
    "history3 = model3.fit(train_X, train_y, validation_split=0.1, epochs=64, batch_size=8)"
   ],
   "outputs": [
    {
     "name": "stdout",
     "output_type": "stream",
     "text": [
      "Epoch 1/64\n",
      "\u001B[1m450/450\u001B[0m \u001B[32m━━━━━━━━━━━━━━━━━━━━\u001B[0m\u001B[37m\u001B[0m \u001B[1m1s\u001B[0m 856us/step - accuracy: 0.5735 - loss: 0.9178 - val_accuracy: 0.9175 - val_loss: 0.2263\n",
      "Epoch 2/64\n",
      "\u001B[1m450/450\u001B[0m \u001B[32m━━━━━━━━━━━━━━━━━━━━\u001B[0m\u001B[37m\u001B[0m \u001B[1m0s\u001B[0m 658us/step - accuracy: 0.9165 - loss: 0.2309 - val_accuracy: 0.8475 - val_loss: 0.3190\n",
      "Epoch 3/64\n",
      "\u001B[1m450/450\u001B[0m \u001B[32m━━━━━━━━━━━━━━━━━━━━\u001B[0m\u001B[37m\u001B[0m \u001B[1m0s\u001B[0m 639us/step - accuracy: 0.9168 - loss: 0.1984 - val_accuracy: 0.9325 - val_loss: 0.1848\n",
      "Epoch 4/64\n",
      "\u001B[1m450/450\u001B[0m \u001B[32m━━━━━━━━━━━━━━━━━━━━\u001B[0m\u001B[37m\u001B[0m \u001B[1m0s\u001B[0m 679us/step - accuracy: 0.9366 - loss: 0.1607 - val_accuracy: 0.9250 - val_loss: 0.1903\n",
      "Epoch 5/64\n",
      "\u001B[1m450/450\u001B[0m \u001B[32m━━━━━━━━━━━━━━━━━━━━\u001B[0m\u001B[37m\u001B[0m \u001B[1m0s\u001B[0m 701us/step - accuracy: 0.9420 - loss: 0.1635 - val_accuracy: 0.9400 - val_loss: 0.1783\n",
      "Epoch 6/64\n",
      "\u001B[1m450/450\u001B[0m \u001B[32m━━━━━━━━━━━━━━━━━━━━\u001B[0m\u001B[37m\u001B[0m \u001B[1m0s\u001B[0m 697us/step - accuracy: 0.9472 - loss: 0.1380 - val_accuracy: 0.9325 - val_loss: 0.1717\n",
      "Epoch 7/64\n",
      "\u001B[1m450/450\u001B[0m \u001B[32m━━━━━━━━━━━━━━━━━━━━\u001B[0m\u001B[37m\u001B[0m \u001B[1m0s\u001B[0m 671us/step - accuracy: 0.9336 - loss: 0.1631 - val_accuracy: 0.9350 - val_loss: 0.1920\n",
      "Epoch 8/64\n",
      "\u001B[1m450/450\u001B[0m \u001B[32m━━━━━━━━━━━━━━━━━━━━\u001B[0m\u001B[37m\u001B[0m \u001B[1m0s\u001B[0m 680us/step - accuracy: 0.9349 - loss: 0.1738 - val_accuracy: 0.9375 - val_loss: 0.1811\n",
      "Epoch 9/64\n",
      "\u001B[1m450/450\u001B[0m \u001B[32m━━━━━━━━━━━━━━━━━━━━\u001B[0m\u001B[37m\u001B[0m \u001B[1m0s\u001B[0m 657us/step - accuracy: 0.9399 - loss: 0.1561 - val_accuracy: 0.9375 - val_loss: 0.1727\n",
      "Epoch 10/64\n",
      "\u001B[1m450/450\u001B[0m \u001B[32m━━━━━━━━━━━━━━━━━━━━\u001B[0m\u001B[37m\u001B[0m \u001B[1m0s\u001B[0m 637us/step - accuracy: 0.9309 - loss: 0.1667 - val_accuracy: 0.9375 - val_loss: 0.1626\n",
      "Epoch 11/64\n",
      "\u001B[1m450/450\u001B[0m \u001B[32m━━━━━━━━━━━━━━━━━━━━\u001B[0m\u001B[37m\u001B[0m \u001B[1m0s\u001B[0m 643us/step - accuracy: 0.9407 - loss: 0.1483 - val_accuracy: 0.9225 - val_loss: 0.1880\n",
      "Epoch 12/64\n",
      "\u001B[1m450/450\u001B[0m \u001B[32m━━━━━━━━━━━━━━━━━━━━\u001B[0m\u001B[37m\u001B[0m \u001B[1m0s\u001B[0m 681us/step - accuracy: 0.9379 - loss: 0.1597 - val_accuracy: 0.9375 - val_loss: 0.1580\n",
      "Epoch 13/64\n",
      "\u001B[1m450/450\u001B[0m \u001B[32m━━━━━━━━━━━━━━━━━━━━\u001B[0m\u001B[37m\u001B[0m \u001B[1m0s\u001B[0m 677us/step - accuracy: 0.9327 - loss: 0.1695 - val_accuracy: 0.9025 - val_loss: 0.2068\n",
      "Epoch 14/64\n",
      "\u001B[1m450/450\u001B[0m \u001B[32m━━━━━━━━━━━━━━━━━━━━\u001B[0m\u001B[37m\u001B[0m \u001B[1m0s\u001B[0m 694us/step - accuracy: 0.9327 - loss: 0.1649 - val_accuracy: 0.9250 - val_loss: 0.1786\n",
      "Epoch 15/64\n",
      "\u001B[1m450/450\u001B[0m \u001B[32m━━━━━━━━━━━━━━━━━━━━\u001B[0m\u001B[37m\u001B[0m \u001B[1m0s\u001B[0m 670us/step - accuracy: 0.9331 - loss: 0.1754 - val_accuracy: 0.9425 - val_loss: 0.1712\n",
      "Epoch 16/64\n",
      "\u001B[1m450/450\u001B[0m \u001B[32m━━━━━━━━━━━━━━━━━━━━\u001B[0m\u001B[37m\u001B[0m \u001B[1m0s\u001B[0m 670us/step - accuracy: 0.9433 - loss: 0.1446 - val_accuracy: 0.9350 - val_loss: 0.1672\n",
      "Epoch 17/64\n",
      "\u001B[1m450/450\u001B[0m \u001B[32m━━━━━━━━━━━━━━━━━━━━\u001B[0m\u001B[37m\u001B[0m \u001B[1m0s\u001B[0m 662us/step - accuracy: 0.9389 - loss: 0.1602 - val_accuracy: 0.9375 - val_loss: 0.1586\n",
      "Epoch 18/64\n",
      "\u001B[1m450/450\u001B[0m \u001B[32m━━━━━━━━━━━━━━━━━━━━\u001B[0m\u001B[37m\u001B[0m \u001B[1m0s\u001B[0m 668us/step - accuracy: 0.9435 - loss: 0.1493 - val_accuracy: 0.9350 - val_loss: 0.1698\n",
      "Epoch 19/64\n",
      "\u001B[1m450/450\u001B[0m \u001B[32m━━━━━━━━━━━━━━━━━━━━\u001B[0m\u001B[37m\u001B[0m \u001B[1m0s\u001B[0m 677us/step - accuracy: 0.9395 - loss: 0.1584 - val_accuracy: 0.9375 - val_loss: 0.1529\n",
      "Epoch 20/64\n",
      "\u001B[1m450/450\u001B[0m \u001B[32m━━━━━━━━━━━━━━━━━━━━\u001B[0m\u001B[37m\u001B[0m \u001B[1m0s\u001B[0m 677us/step - accuracy: 0.9404 - loss: 0.1529 - val_accuracy: 0.9400 - val_loss: 0.1783\n",
      "Epoch 21/64\n",
      "\u001B[1m450/450\u001B[0m \u001B[32m━━━━━━━━━━━━━━━━━━━━\u001B[0m\u001B[37m\u001B[0m \u001B[1m0s\u001B[0m 691us/step - accuracy: 0.9390 - loss: 0.1560 - val_accuracy: 0.9325 - val_loss: 0.1602\n",
      "Epoch 22/64\n",
      "\u001B[1m450/450\u001B[0m \u001B[32m━━━━━━━━━━━━━━━━━━━━\u001B[0m\u001B[37m\u001B[0m \u001B[1m0s\u001B[0m 670us/step - accuracy: 0.9393 - loss: 0.1520 - val_accuracy: 0.9375 - val_loss: 0.1609\n",
      "Epoch 23/64\n",
      "\u001B[1m450/450\u001B[0m \u001B[32m━━━━━━━━━━━━━━━━━━━━\u001B[0m\u001B[37m\u001B[0m \u001B[1m0s\u001B[0m 725us/step - accuracy: 0.9425 - loss: 0.1436 - val_accuracy: 0.9375 - val_loss: 0.1604\n",
      "Epoch 24/64\n",
      "\u001B[1m450/450\u001B[0m \u001B[32m━━━━━━━━━━━━━━━━━━━━\u001B[0m\u001B[37m\u001B[0m \u001B[1m0s\u001B[0m 701us/step - accuracy: 0.9388 - loss: 0.1572 - val_accuracy: 0.9400 - val_loss: 0.1679\n",
      "Epoch 25/64\n",
      "\u001B[1m450/450\u001B[0m \u001B[32m━━━━━━━━━━━━━━━━━━━━\u001B[0m\u001B[37m\u001B[0m \u001B[1m0s\u001B[0m 679us/step - accuracy: 0.9410 - loss: 0.1477 - val_accuracy: 0.9325 - val_loss: 0.1626\n",
      "Epoch 26/64\n",
      "\u001B[1m450/450\u001B[0m \u001B[32m━━━━━━━━━━━━━━━━━━━━\u001B[0m\u001B[37m\u001B[0m \u001B[1m0s\u001B[0m 678us/step - accuracy: 0.9345 - loss: 0.1676 - val_accuracy: 0.9425 - val_loss: 0.1670\n",
      "Epoch 27/64\n",
      "\u001B[1m450/450\u001B[0m \u001B[32m━━━━━━━━━━━━━━━━━━━━\u001B[0m\u001B[37m\u001B[0m \u001B[1m0s\u001B[0m 707us/step - accuracy: 0.9292 - loss: 0.1612 - val_accuracy: 0.9325 - val_loss: 0.1628\n",
      "Epoch 28/64\n",
      "\u001B[1m450/450\u001B[0m \u001B[32m━━━━━━━━━━━━━━━━━━━━\u001B[0m\u001B[37m\u001B[0m \u001B[1m0s\u001B[0m 687us/step - accuracy: 0.9361 - loss: 0.1582 - val_accuracy: 0.9400 - val_loss: 0.1605\n",
      "Epoch 29/64\n",
      "\u001B[1m450/450\u001B[0m \u001B[32m━━━━━━━━━━━━━━━━━━━━\u001B[0m\u001B[37m\u001B[0m \u001B[1m0s\u001B[0m 675us/step - accuracy: 0.9416 - loss: 0.1554 - val_accuracy: 0.9350 - val_loss: 0.1636\n",
      "Epoch 30/64\n",
      "\u001B[1m450/450\u001B[0m \u001B[32m━━━━━━━━━━━━━━━━━━━━\u001B[0m\u001B[37m\u001B[0m \u001B[1m0s\u001B[0m 680us/step - accuracy: 0.9451 - loss: 0.1421 - val_accuracy: 0.9150 - val_loss: 0.2131\n",
      "Epoch 31/64\n",
      "\u001B[1m450/450\u001B[0m \u001B[32m━━━━━━━━━━━━━━━━━━━━\u001B[0m\u001B[37m\u001B[0m \u001B[1m0s\u001B[0m 661us/step - accuracy: 0.9386 - loss: 0.1489 - val_accuracy: 0.9100 - val_loss: 0.2002\n",
      "Epoch 32/64\n",
      "\u001B[1m450/450\u001B[0m \u001B[32m━━━━━━━━━━━━━━━━━━━━\u001B[0m\u001B[37m\u001B[0m \u001B[1m0s\u001B[0m 674us/step - accuracy: 0.9329 - loss: 0.1628 - val_accuracy: 0.9175 - val_loss: 0.1970\n",
      "Epoch 33/64\n",
      "\u001B[1m450/450\u001B[0m \u001B[32m━━━━━━━━━━━━━━━━━━━━\u001B[0m\u001B[37m\u001B[0m \u001B[1m0s\u001B[0m 694us/step - accuracy: 0.9372 - loss: 0.1559 - val_accuracy: 0.9375 - val_loss: 0.1609\n",
      "Epoch 34/64\n",
      "\u001B[1m450/450\u001B[0m \u001B[32m━━━━━━━━━━━━━━━━━━━━\u001B[0m\u001B[37m\u001B[0m \u001B[1m0s\u001B[0m 678us/step - accuracy: 0.9363 - loss: 0.1665 - val_accuracy: 0.9300 - val_loss: 0.1752\n",
      "Epoch 35/64\n",
      "\u001B[1m450/450\u001B[0m \u001B[32m━━━━━━━━━━━━━━━━━━━━\u001B[0m\u001B[37m\u001B[0m \u001B[1m0s\u001B[0m 668us/step - accuracy: 0.9347 - loss: 0.1646 - val_accuracy: 0.9425 - val_loss: 0.1538\n",
      "Epoch 36/64\n",
      "\u001B[1m450/450\u001B[0m \u001B[32m━━━━━━━━━━━━━━━━━━━━\u001B[0m\u001B[37m\u001B[0m \u001B[1m0s\u001B[0m 695us/step - accuracy: 0.9489 - loss: 0.1341 - val_accuracy: 0.9375 - val_loss: 0.1662\n",
      "Epoch 37/64\n",
      "\u001B[1m450/450\u001B[0m \u001B[32m━━━━━━━━━━━━━━━━━━━━\u001B[0m\u001B[37m\u001B[0m \u001B[1m0s\u001B[0m 654us/step - accuracy: 0.9346 - loss: 0.1592 - val_accuracy: 0.9400 - val_loss: 0.1661\n",
      "Epoch 38/64\n",
      "\u001B[1m450/450\u001B[0m \u001B[32m━━━━━━━━━━━━━━━━━━━━\u001B[0m\u001B[37m\u001B[0m \u001B[1m0s\u001B[0m 655us/step - accuracy: 0.9462 - loss: 0.1433 - val_accuracy: 0.9450 - val_loss: 0.1546\n",
      "Epoch 39/64\n",
      "\u001B[1m450/450\u001B[0m \u001B[32m━━━━━━━━━━━━━━━━━━━━\u001B[0m\u001B[37m\u001B[0m \u001B[1m0s\u001B[0m 701us/step - accuracy: 0.9416 - loss: 0.1501 - val_accuracy: 0.9375 - val_loss: 0.1595\n",
      "Epoch 40/64\n",
      "\u001B[1m450/450\u001B[0m \u001B[32m━━━━━━━━━━━━━━━━━━━━\u001B[0m\u001B[37m\u001B[0m \u001B[1m0s\u001B[0m 706us/step - accuracy: 0.9378 - loss: 0.1543 - val_accuracy: 0.9425 - val_loss: 0.1542\n",
      "Epoch 41/64\n",
      "\u001B[1m450/450\u001B[0m \u001B[32m━━━━━━━━━━━━━━━━━━━━\u001B[0m\u001B[37m\u001B[0m \u001B[1m0s\u001B[0m 676us/step - accuracy: 0.9378 - loss: 0.1499 - val_accuracy: 0.9400 - val_loss: 0.1772\n",
      "Epoch 42/64\n",
      "\u001B[1m450/450\u001B[0m \u001B[32m━━━━━━━━━━━━━━━━━━━━\u001B[0m\u001B[37m\u001B[0m \u001B[1m0s\u001B[0m 677us/step - accuracy: 0.9379 - loss: 0.1525 - val_accuracy: 0.9175 - val_loss: 0.2129\n",
      "Epoch 43/64\n",
      "\u001B[1m450/450\u001B[0m \u001B[32m━━━━━━━━━━━━━━━━━━━━\u001B[0m\u001B[37m\u001B[0m \u001B[1m0s\u001B[0m 668us/step - accuracy: 0.9418 - loss: 0.1471 - val_accuracy: 0.9425 - val_loss: 0.1634\n",
      "Epoch 44/64\n",
      "\u001B[1m450/450\u001B[0m \u001B[32m━━━━━━━━━━━━━━━━━━━━\u001B[0m\u001B[37m\u001B[0m \u001B[1m0s\u001B[0m 719us/step - accuracy: 0.9433 - loss: 0.1506 - val_accuracy: 0.9325 - val_loss: 0.1668\n",
      "Epoch 45/64\n",
      "\u001B[1m450/450\u001B[0m \u001B[32m━━━━━━━━━━━━━━━━━━━━\u001B[0m\u001B[37m\u001B[0m \u001B[1m0s\u001B[0m 657us/step - accuracy: 0.9391 - loss: 0.1513 - val_accuracy: 0.9300 - val_loss: 0.1807\n",
      "Epoch 46/64\n",
      "\u001B[1m450/450\u001B[0m \u001B[32m━━━━━━━━━━━━━━━━━━━━\u001B[0m\u001B[37m\u001B[0m \u001B[1m0s\u001B[0m 697us/step - accuracy: 0.9403 - loss: 0.1631 - val_accuracy: 0.8825 - val_loss: 0.2929\n",
      "Epoch 47/64\n",
      "\u001B[1m450/450\u001B[0m \u001B[32m━━━━━━━━━━━━━━━━━━━━\u001B[0m\u001B[37m\u001B[0m \u001B[1m0s\u001B[0m 670us/step - accuracy: 0.9407 - loss: 0.1480 - val_accuracy: 0.9375 - val_loss: 0.1837\n",
      "Epoch 48/64\n",
      "\u001B[1m450/450\u001B[0m \u001B[32m━━━━━━━━━━━━━━━━━━━━\u001B[0m\u001B[37m\u001B[0m \u001B[1m0s\u001B[0m 662us/step - accuracy: 0.9422 - loss: 0.1505 - val_accuracy: 0.9250 - val_loss: 0.1905\n",
      "Epoch 49/64\n",
      "\u001B[1m450/450\u001B[0m \u001B[32m━━━━━━━━━━━━━━━━━━━━\u001B[0m\u001B[37m\u001B[0m \u001B[1m0s\u001B[0m 667us/step - accuracy: 0.9374 - loss: 0.1491 - val_accuracy: 0.9375 - val_loss: 0.1574\n",
      "Epoch 50/64\n",
      "\u001B[1m450/450\u001B[0m \u001B[32m━━━━━━━━━━━━━━━━━━━━\u001B[0m\u001B[37m\u001B[0m \u001B[1m0s\u001B[0m 678us/step - accuracy: 0.9394 - loss: 0.1478 - val_accuracy: 0.9325 - val_loss: 0.1757\n",
      "Epoch 51/64\n",
      "\u001B[1m450/450\u001B[0m \u001B[32m━━━━━━━━━━━━━━━━━━━━\u001B[0m\u001B[37m\u001B[0m \u001B[1m0s\u001B[0m 692us/step - accuracy: 0.9406 - loss: 0.1638 - val_accuracy: 0.9300 - val_loss: 0.1743\n",
      "Epoch 52/64\n",
      "\u001B[1m450/450\u001B[0m \u001B[32m━━━━━━━━━━━━━━━━━━━━\u001B[0m\u001B[37m\u001B[0m \u001B[1m0s\u001B[0m 675us/step - accuracy: 0.9291 - loss: 0.1713 - val_accuracy: 0.9400 - val_loss: 0.1579\n",
      "Epoch 53/64\n",
      "\u001B[1m450/450\u001B[0m \u001B[32m━━━━━━━━━━━━━━━━━━━━\u001B[0m\u001B[37m\u001B[0m \u001B[1m0s\u001B[0m 680us/step - accuracy: 0.9423 - loss: 0.1463 - val_accuracy: 0.9400 - val_loss: 0.1813\n",
      "Epoch 54/64\n",
      "\u001B[1m450/450\u001B[0m \u001B[32m━━━━━━━━━━━━━━━━━━━━\u001B[0m\u001B[37m\u001B[0m \u001B[1m0s\u001B[0m 705us/step - accuracy: 0.9383 - loss: 0.1515 - val_accuracy: 0.9400 - val_loss: 0.1603\n",
      "Epoch 55/64\n",
      "\u001B[1m450/450\u001B[0m \u001B[32m━━━━━━━━━━━━━━━━━━━━\u001B[0m\u001B[37m\u001B[0m \u001B[1m0s\u001B[0m 670us/step - accuracy: 0.9410 - loss: 0.1513 - val_accuracy: 0.9400 - val_loss: 0.1633\n",
      "Epoch 56/64\n",
      "\u001B[1m450/450\u001B[0m \u001B[32m━━━━━━━━━━━━━━━━━━━━\u001B[0m\u001B[37m\u001B[0m \u001B[1m0s\u001B[0m 669us/step - accuracy: 0.9408 - loss: 0.1555 - val_accuracy: 0.9350 - val_loss: 0.1696\n",
      "Epoch 57/64\n",
      "\u001B[1m450/450\u001B[0m \u001B[32m━━━━━━━━━━━━━━━━━━━━\u001B[0m\u001B[37m\u001B[0m \u001B[1m0s\u001B[0m 668us/step - accuracy: 0.9378 - loss: 0.1547 - val_accuracy: 0.9350 - val_loss: 0.1619\n",
      "Epoch 58/64\n",
      "\u001B[1m450/450\u001B[0m \u001B[32m━━━━━━━━━━━━━━━━━━━━\u001B[0m\u001B[37m\u001B[0m \u001B[1m0s\u001B[0m 667us/step - accuracy: 0.9383 - loss: 0.1626 - val_accuracy: 0.9425 - val_loss: 0.1611\n",
      "Epoch 59/64\n",
      "\u001B[1m450/450\u001B[0m \u001B[32m━━━━━━━━━━━━━━━━━━━━\u001B[0m\u001B[37m\u001B[0m \u001B[1m0s\u001B[0m 671us/step - accuracy: 0.9412 - loss: 0.1459 - val_accuracy: 0.9250 - val_loss: 0.1985\n",
      "Epoch 60/64\n",
      "\u001B[1m450/450\u001B[0m \u001B[32m━━━━━━━━━━━━━━━━━━━━\u001B[0m\u001B[37m\u001B[0m \u001B[1m0s\u001B[0m 672us/step - accuracy: 0.9346 - loss: 0.1571 - val_accuracy: 0.9375 - val_loss: 0.1772\n",
      "Epoch 61/64\n",
      "\u001B[1m450/450\u001B[0m \u001B[32m━━━━━━━━━━━━━━━━━━━━\u001B[0m\u001B[37m\u001B[0m \u001B[1m0s\u001B[0m 691us/step - accuracy: 0.9367 - loss: 0.1471 - val_accuracy: 0.9400 - val_loss: 0.1596\n",
      "Epoch 62/64\n",
      "\u001B[1m450/450\u001B[0m \u001B[32m━━━━━━━━━━━━━━━━━━━━\u001B[0m\u001B[37m\u001B[0m \u001B[1m0s\u001B[0m 705us/step - accuracy: 0.9382 - loss: 0.1504 - val_accuracy: 0.9425 - val_loss: 0.1610\n",
      "Epoch 63/64\n",
      "\u001B[1m450/450\u001B[0m \u001B[32m━━━━━━━━━━━━━━━━━━━━\u001B[0m\u001B[37m\u001B[0m \u001B[1m0s\u001B[0m 719us/step - accuracy: 0.9401 - loss: 0.1513 - val_accuracy: 0.9350 - val_loss: 0.1648\n",
      "Epoch 64/64\n",
      "\u001B[1m450/450\u001B[0m \u001B[32m━━━━━━━━━━━━━━━━━━━━\u001B[0m\u001B[37m\u001B[0m \u001B[1m0s\u001B[0m 693us/step - accuracy: 0.9318 - loss: 0.1685 - val_accuracy: 0.9350 - val_loss: 0.1895\n"
     ]
    }
   ],
   "execution_count": 156
  },
  {
   "metadata": {
    "ExecuteTime": {
     "end_time": "2024-12-19T22:28:51.285230Z",
     "start_time": "2024-12-19T22:28:51.158020Z"
    }
   },
   "cell_type": "code",
   "source": [
    "sns.lineplot(history3.history['loss'], label='loss')\n",
    "sns.lineplot(history3.history['val_loss'], label='val_loss')"
   ],
   "outputs": [
    {
     "data": {
      "text/plain": [
       "<Axes: >"
      ]
     },
     "execution_count": 157,
     "metadata": {},
     "output_type": "execute_result"
    },
    {
     "data": {
      "text/plain": [
       "<Figure size 640x480 with 1 Axes>"
      ],
      "image/png": "[encoded data removed]"
     },
     "metadata": {},
     "output_type": "display_data"
    }
   ],
   "execution_count": 157
  },
  {
   "metadata": {
    "ExecuteTime": {
     "end_time": "2024-12-19T22:28:51.384054Z",
     "start_time": "2024-12-19T22:28:51.311384Z"
    }
   },
   "cell_type": "code",
   "source": [
    "pred_y3 = model1.predict(test_X).round()\n",
    "pred_y3 = np.argmax(pred_y3, axis=1)\n",
    "print(classification_report(test_y, pred_y3))"
   ],
   "outputs": [
    {
     "name": "stdout",
     "output_type": "stream",
     "text": [
      "\u001B[1m32/32\u001B[0m \u001B[32m━━━━━━━━━━━━━━━━━━━━\u001B[0m\u001B[37m\u001B[0m \u001B[1m0s\u001B[0m 570us/step\n",
      "              precision    recall  f1-score   support\n",
      "\n",
      "           0       1.00      0.99      0.99       404\n",
      "           1       0.86      0.84      0.85       100\n",
      "           2       0.93      0.97      0.95       296\n",
      "           3       0.88      0.83      0.85       200\n",
      "\n",
      "    accuracy                           0.94      1000\n",
      "   macro avg       0.91      0.91      0.91      1000\n",
      "weighted avg       0.94      0.94      0.94      1000\n",
      "\n"
     ]
    }
   ],
   "execution_count": 158
  },
  {
   "metadata": {
    "ExecuteTime": {
     "end_time": "2024-12-19T22:28:51.405552Z",
     "start_time": "2024-12-19T22:28:51.402530Z"
    }
   },
   "cell_type": "code",
   "source": "",
   "outputs": [],
   "execution_count": null
  }
 ]
}
