{
 "cells": [
  {
   "cell_type": "markdown",
   "metadata": {
    "id": "skreU4ZawqQ_"
   },
   "source": [
    "# Lab Exercise 1. Scraping Static Websites\n"
   ]
  },
  {
   "cell_type": "markdown",
   "metadata": {
    "id": "VzAWoqz5wwT9"
   },
   "source": [
    "This is the warmup task for the first laboratory exercise. It consists of scraping static Websites with BeautifulSoap.\n",
    "\n",
    " It should be completed at home and presented at the laboratory."
   ]
  },
  {
   "cell_type": "markdown",
   "metadata": {
    "id": "qpdvbrsow5EE"
   },
   "source": [
    "**Total points: 2**"
   ]
  },
  {
   "cell_type": "markdown",
   "metadata": {
    "id": "6eDmGLrXx0t8"
   },
   "source": [
    "### Task Description"
   ]
  },
  {
   "cell_type": "markdown",
   "metadata": {
    "id": "RG42MHsDxAP_"
   },
   "source": [
    "Scrape the information about the products on the following page:\n",
    "https://clevershop.mk/product-category/mobilni-laptopi-i-tableti/"
   ]
  },
  {
   "cell_type": "markdown",
   "metadata": {
    "id": "uoTcMRl4xP3G"
   },
   "source": [
    "For each product scrape:\n",
    "\n",
    "\n",
    "*   Product title (selector `'.wd-entities-title'`)\n",
    "*   Product regular price (selector `'.woocommerce-Price-amount'`)\n",
    "*   Product discount price (if available), same selector as regular price\n",
    "*   URL to the product page\n",
    "*   Add to cart button URL\n",
    "\n",
    "***Help: There are multiple product pages, for each page you need to send a separate request***\n"
   ]
  },
  {
   "cell_type": "markdown",
   "metadata": {
    "id": "tc0QvUR8xxwt"
   },
   "source": [
    "Save the results as a DataFrame object"
   ]
  },
  {
   "cell_type": "markdown",
   "metadata": {
    "id": "peGjiUZLzbZt"
   },
   "source": [
    "You can add as many code cells as you need."
   ]
  },
  {
   "cell_type": "markdown",
   "metadata": {
    "id": "b7U-kwKSzUIV"
   },
   "source": [
    "________________________________________________________________"
   ]
  },
  {
   "cell_type": "markdown",
   "metadata": {
    "id": "yn5gyMzNx5Vk"
   },
   "source": [
    "### Requirements"
   ]
  },
  {
   "cell_type": "markdown",
   "metadata": {
    "id": "WZ3ifNLhx7tk"
   },
   "source": [
    "Import libraries and modules that you are going to use"
   ]
  },
  {
   "cell_type": "code",
   "execution_count": 108,
   "metadata": {
    "id": "GQ3zSO8WyJC_"
   },
   "outputs": [],
   "source": [
    "import requests\n",
    "from bs4 import BeautifulSoup as bs\n",
    "import pandas as pd"
   ]
  },
  {
   "cell_type": "markdown",
   "metadata": {
    "id": "fsR71mugyJP7"
   },
   "source": [
    "### Send HTTP request to the target Website"
   ]
  },
  {
   "cell_type": "code",
   "execution_count": 110,
   "metadata": {
    "id": "61ImGen2yQff"
   },
   "outputs": [],
   "source": [
    "url=\"https://clevershop.mk/product-category/mobilni-laptopi-i-tableti/page/1/\"\n",
    "response = requests.get(url)"
   ]
  },
  {
   "cell_type": "markdown",
   "metadata": {
    "id": "lFnRsSVJyXit"
   },
   "source": [
    "check the response status code"
   ]
  },
  {
   "cell_type": "code",
   "execution_count": 112,
   "metadata": {
    "id": "xy6xJ3RGyXUN"
   },
   "outputs": [
    {
     "data": {
      "text/plain": [
       "200"
      ]
     },
     "execution_count": 112,
     "metadata": {},
     "output_type": "execute_result"
    }
   ],
   "source": [
    "response.status_code"
   ]
  },
  {
   "cell_type": "markdown",
   "metadata": {
    "id": "-MykzAV4yQ4j"
   },
   "source": [
    "### Parse the response content with BeautifulSoap"
   ]
  },
  {
   "cell_type": "code",
   "execution_count": 238,
   "metadata": {
    "id": "F92A3wvlyUBc"
   },
   "outputs": [],
   "source": [
    "soup = bs(response.text, \"html.parser\")"
   ]
  },
  {
   "cell_type": "markdown",
   "metadata": {
    "id": "F8hifMvVycfV"
   },
   "source": [
    "### Extract data from the BeautifulSoap object using any selectors, attribute identifiers, etc."
   ]
  },
  {
   "cell_type": "markdown",
   "metadata": {
    "id": "sHgfHr61y2tD"
   },
   "source": [
    "* Product title (selector '.wd-entities-title')\n",
    "* Product regular price (selector '.woocommerce-Price-amount')\n",
    "* Product discount price (if available), same selector as regular price\n",
    "* URL to the product page\n",
    "* Add to cart button URL"
   ]
  },
  {
   "cell_type": "code",
   "execution_count": 194,
   "metadata": {
    "id": "UV1kZCRyycQF"
   },
   "outputs": [
    {
     "name": "stdout",
     "output_type": "stream",
     "text": [
      "Acer A315-23-A7KD\n",
      "17.590 ден\n",
      "None\n",
      "https://clevershop.mk/product/acer-a315-23-a7kd/\n",
      "https://clevershop.mk/product-category/mobilni-laptopi-i-tableti/page/1/?add-to-cart=21494\n"
     ]
    }
   ],
   "source": [
    "products=soup.select('.product-wrapper')\n",
    "no_sale=products[0]\n",
    "sale=products[2]\n",
    "\n",
    "name=no_sale.select_one('.wd-entities-title')\n",
    "link=name.select_one('a').get('href')\n",
    "name=name.text\n",
    "regular_price=no_sale.select_one('.price')\n",
    "regular_price=regular_price.text\n",
    "sprice=no_sale.select_one('.price > ins:nth-child(3) > span:nth-child(1) > bdi:nth-child(1)')\n",
    "btnLink=no_sale.select_one('.wd-add-btn > a').get('href')\n",
    "btnLink=url+btnLink\n",
    "print(name)\n",
    "print(regular_price)\n",
    "if sprice is not None:\n",
    "    print(sprice.text)\n",
    "else:\n",
    "    print(None)\n",
    "print(link)\n",
    "print(btnLink)"
   ]
  },
  {
   "cell_type": "markdown",
   "metadata": {
    "id": "gToy7d5Jy9Qk"
   },
   "source": [
    "Repeat the extraction process for each page of products"
   ]
  },
  {
   "cell_type": "code",
   "execution_count": 246,
   "metadata": {
    "id": "rVdYuEv3zArs"
   },
   "outputs": [
    {
     "name": "stdout",
     "output_type": "stream",
     "text": [
      "320\n"
     ]
    }
   ],
   "source": [
    "page_number=int(soup.select(\".page-numbers\")[-1].text)\n",
    "products=[]\n",
    "parsed=[]\n",
    "for i in range(1,page_number+1):\n",
    "    url=f\"https://clevershop.mk/product-category/mobilni-laptopi-i-tableti/page/{i}/\"\n",
    "    resp=requests.get(url)\n",
    "    soup = bs(resp.text, \"html.parser\")\n",
    "    # print(soup.prettify())\n",
    "    products+=soup.select('.product-wrapper')\n",
    "url='https://clevershop.mk/product-category/mobilni-laptopi-i-tableti'\n",
    "for p in products:\n",
    "    name=p.select_one('.wd-entities-title')\n",
    "    link=name.select_one('a').get('href')\n",
    "    name=name.text\n",
    "    regular_price=p.select_one('.price')\n",
    "    regular_price=regular_price.text\n",
    "    sprice=p.select_one('.price > ins:nth-child(3) > span:nth-child(1) > bdi:nth-child(1)')\n",
    "    btnLink=p.select_one('.wd-add-btn > a').get('href')\n",
    "    btnLink=url+btnLink\n",
    "    if sprice is not None:\n",
    "        sale_price=sprice.text\n",
    "    else:\n",
    "        sale_price=None\n",
    "    p_dict={\n",
    "        \"ProductName\":name,\n",
    "        \"ProductLink\":link,\n",
    "        \"AddToCartLink\":btnLink,\n",
    "        \"RegularPrice\":regular_price,\n",
    "        \"SalePrice\":sale_price}\n",
    "    parsed.append(p_dict)\n",
    "\n",
    "print(len(parsed))\n"
   ]
  },
  {
   "cell_type": "markdown",
   "metadata": {
    "id": "R4OIUt0AynuU"
   },
   "source": [
    "### Create a pandas DataFrame with the scraped products"
   ]
  },
  {
   "cell_type": "code",
   "execution_count": 248,
   "metadata": {
    "id": "-wCzGEj8yrKU"
   },
   "outputs": [
    {
     "data": {
      "text/html": [
       "<div>\n",
       "<style scoped>\n",
       "    .dataframe tbody tr th:only-of-type {\n",
       "        vertical-align: middle;\n",
       "    }\n",
       "\n",
       "    .dataframe tbody tr th {\n",
       "        vertical-align: top;\n",
       "    }\n",
       "\n",
       "    .dataframe thead th {\n",
       "        text-align: right;\n",
       "    }\n",
       "</style>\n",
       "<table border=\"1\" class=\"dataframe\">\n",
       "  <thead>\n",
       "    <tr style=\"text-align: right;\">\n",
       "      <th></th>\n",
       "      <th>ProductName</th>\n",
       "      <th>ProductLink</th>\n",
       "      <th>AddToCartLink</th>\n",
       "      <th>RegularPrice</th>\n",
       "      <th>SalePrice</th>\n",
       "    </tr>\n",
       "  </thead>\n",
       "  <tbody>\n",
       "    <tr>\n",
       "      <th>0</th>\n",
       "      <td>Acer A315-23-A7KD</td>\n",
       "      <td>https://clevershop.mk/product/acer-a315-23-a7kd/</td>\n",
       "      <td>https://clevershop.mk/product-category/mobilni...</td>\n",
       "      <td>17.590 ден</td>\n",
       "      <td>None</td>\n",
       "    </tr>\n",
       "    <tr>\n",
       "      <th>1</th>\n",
       "      <td>Acer A315-23-R5P2</td>\n",
       "      <td>https://clevershop.mk/product/acer-a315-23-r5p2/</td>\n",
       "      <td>https://clevershop.mk/product-category/mobilni...</td>\n",
       "      <td>27.490 ден</td>\n",
       "      <td>None</td>\n",
       "    </tr>\n",
       "    <tr>\n",
       "      <th>2</th>\n",
       "      <td>ACER Aspire 1 A115-22</td>\n",
       "      <td>https://clevershop.mk/product/acer-aspire-1-nx...</td>\n",
       "      <td>https://clevershop.mk/product-category/mobilni...</td>\n",
       "      <td>18.999 ден Original price was: 18.999 ден.15.9...</td>\n",
       "      <td>15.999 ден</td>\n",
       "    </tr>\n",
       "    <tr>\n",
       "      <th>3</th>\n",
       "      <td>Acer Aspire 3 A315-23-R26A</td>\n",
       "      <td>https://clevershop.mk/product/acer-aspire-3-a3...</td>\n",
       "      <td>https://clevershop.mk/product-category/mobilni...</td>\n",
       "      <td>29.990 ден</td>\n",
       "      <td>None</td>\n",
       "    </tr>\n",
       "    <tr>\n",
       "      <th>4</th>\n",
       "      <td>Acer Aspire 3 A315-58-33WK</td>\n",
       "      <td>https://clevershop.mk/product/21498/</td>\n",
       "      <td>https://clevershop.mk/product-category/mobilni...</td>\n",
       "      <td>24.490 ден</td>\n",
       "      <td>None</td>\n",
       "    </tr>\n",
       "    <tr>\n",
       "      <th>...</th>\n",
       "      <td>...</td>\n",
       "      <td>...</td>\n",
       "      <td>...</td>\n",
       "      <td>...</td>\n",
       "      <td>...</td>\n",
       "    </tr>\n",
       "    <tr>\n",
       "      <th>315</th>\n",
       "      <td>Monitor 27 Philips 272E1GAJ/00 VA 1ms 144Hz</td>\n",
       "      <td>https://clevershop.mk/product/monitor-27-phili...</td>\n",
       "      <td>https://clevershop.mk/product-category/mobilni...</td>\n",
       "      <td>12.890 ден</td>\n",
       "      <td>None</td>\n",
       "    </tr>\n",
       "    <tr>\n",
       "      <th>316</th>\n",
       "      <td>Philips 24″ 243V7QDSB</td>\n",
       "      <td>https://clevershop.mk/product/philips-24%e2%80...</td>\n",
       "      <td>https://clevershop.mk/product-category/mobilni...</td>\n",
       "      <td>8.390 ден</td>\n",
       "      <td>None</td>\n",
       "    </tr>\n",
       "    <tr>\n",
       "      <th>317</th>\n",
       "      <td>Philips 27″ 278E1A/00 4K UHD IPS</td>\n",
       "      <td>https://clevershop.mk/product/hp-27%e2%80%b3-2...</td>\n",
       "      <td>https://clevershop.mk/product-category/mobilni...</td>\n",
       "      <td>18.990 ден</td>\n",
       "      <td>None</td>\n",
       "    </tr>\n",
       "    <tr>\n",
       "      <th>318</th>\n",
       "      <td>Philips 279C9-00 MON LED 27″ 3840 x 2160 5Ms 6...</td>\n",
       "      <td>https://clevershop.mk/product/philips-279c9-00...</td>\n",
       "      <td>https://clevershop.mk/product-category/mobilni...</td>\n",
       "      <td>26.990 ден</td>\n",
       "      <td>None</td>\n",
       "    </tr>\n",
       "    <tr>\n",
       "      <th>319</th>\n",
       "      <td>Xiaomi Redmi AirDots Wireless</td>\n",
       "      <td>https://clevershop.mk/product/redmi-headphones/</td>\n",
       "      <td>https://clevershop.mk/product-category/mobilni...</td>\n",
       "      <td>990 ден</td>\n",
       "      <td>None</td>\n",
       "    </tr>\n",
       "  </tbody>\n",
       "</table>\n",
       "<p>320 rows × 5 columns</p>\n",
       "</div>"
      ],
      "text/plain": [
       "                                           ProductName  \\\n",
       "0                                    Acer A315-23-A7KD   \n",
       "1                                    Acer A315-23-R5P2   \n",
       "2                                ACER Aspire 1 A115-22   \n",
       "3                           Acer Aspire 3 A315-23-R26A   \n",
       "4                           Acer Aspire 3 A315-58-33WK   \n",
       "..                                                 ...   \n",
       "315        Monitor 27 Philips 272E1GAJ/00 VA 1ms 144Hz   \n",
       "316                              Philips 24″ 243V7QDSB   \n",
       "317                   Philips 27″ 278E1A/00 4K UHD IPS   \n",
       "318  Philips 279C9-00 MON LED 27″ 3840 x 2160 5Ms 6...   \n",
       "319                      Xiaomi Redmi AirDots Wireless   \n",
       "\n",
       "                                           ProductLink  \\\n",
       "0     https://clevershop.mk/product/acer-a315-23-a7kd/   \n",
       "1     https://clevershop.mk/product/acer-a315-23-r5p2/   \n",
       "2    https://clevershop.mk/product/acer-aspire-1-nx...   \n",
       "3    https://clevershop.mk/product/acer-aspire-3-a3...   \n",
       "4                 https://clevershop.mk/product/21498/   \n",
       "..                                                 ...   \n",
       "315  https://clevershop.mk/product/monitor-27-phili...   \n",
       "316  https://clevershop.mk/product/philips-24%e2%80...   \n",
       "317  https://clevershop.mk/product/hp-27%e2%80%b3-2...   \n",
       "318  https://clevershop.mk/product/philips-279c9-00...   \n",
       "319    https://clevershop.mk/product/redmi-headphones/   \n",
       "\n",
       "                                         AddToCartLink  \\\n",
       "0    https://clevershop.mk/product-category/mobilni...   \n",
       "1    https://clevershop.mk/product-category/mobilni...   \n",
       "2    https://clevershop.mk/product-category/mobilni...   \n",
       "3    https://clevershop.mk/product-category/mobilni...   \n",
       "4    https://clevershop.mk/product-category/mobilni...   \n",
       "..                                                 ...   \n",
       "315  https://clevershop.mk/product-category/mobilni...   \n",
       "316  https://clevershop.mk/product-category/mobilni...   \n",
       "317  https://clevershop.mk/product-category/mobilni...   \n",
       "318  https://clevershop.mk/product-category/mobilni...   \n",
       "319  https://clevershop.mk/product-category/mobilni...   \n",
       "\n",
       "                                          RegularPrice   SalePrice  \n",
       "0                                           17.590 ден        None  \n",
       "1                                           27.490 ден        None  \n",
       "2    18.999 ден Original price was: 18.999 ден.15.9...  15.999 ден  \n",
       "3                                           29.990 ден        None  \n",
       "4                                           24.490 ден        None  \n",
       "..                                                 ...         ...  \n",
       "315                                         12.890 ден        None  \n",
       "316                                          8.390 ден        None  \n",
       "317                                         18.990 ден        None  \n",
       "318                                         26.990 ден        None  \n",
       "319                                            990 ден        None  \n",
       "\n",
       "[320 rows x 5 columns]"
      ]
     },
     "execution_count": 248,
     "metadata": {},
     "output_type": "execute_result"
    }
   ],
   "source": [
    "df=pd.DataFrame(parsed)\n",
    "df"
   ]
  },
  {
   "cell_type": "markdown",
   "metadata": {
    "id": "Rxbi54EOyrb8"
   },
   "source": [
    "Save the dataframe as `.csv`"
   ]
  },
  {
   "cell_type": "code",
   "execution_count": 250,
   "metadata": {
    "id": "TLNfZQ07yuQE"
   },
   "outputs": [],
   "source": [
    "df.to_csv('products.csv', index=False)"
   ]
  }
 ],
 "metadata": {
  "colab": {
   "provenance": []
  },
  "kernelspec": {
   "display_name": "Python 3 (ipykernel)",
   "language": "python",
   "name": "python3"
  },
  "language_info": {
   "codemirror_mode": {
    "name": "ipython",
    "version": 3
   },
   "file_extension": ".py",
   "mimetype": "text/x-python",
   "name": "python",
   "nbconvert_exporter": "python",
   "pygments_lexer": "ipython3",
   "version": "3.12.7"
  }
 },
 "nbformat": 4,
 "nbformat_minor": 4
}
